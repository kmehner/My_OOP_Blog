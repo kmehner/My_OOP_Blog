{
 "cells": [
  {
   "cell_type": "code",
   "execution_count": 18,
   "id": "d05a186d",
   "metadata": {},
   "outputs": [],
   "source": [
    "class Blog:\n",
    "    def __init__(self):\n",
    "        self.users =[]\n",
    "        self.posts = []\n",
    "        self.current_user = None\n",
    "        \n",
    "    def create_new_user(self):\n",
    "        username = input('Please enter a username: ')\n",
    "        password = input(\"Please enter a password: \")\n",
    "        new_user = User(username, password)\n",
    "        self.users.append(new_user)\n",
    "        print(f\"{new_user} has been created.\")\n",
    "    \n",
    "    def log_user_in(self):\n",
    "        username = input(\"What is your username? \")\n",
    "        password = input(\"What is your password? \")\n",
    "        for user in self.users:\n",
    "            if username == user.username and user.check_password(password):\n",
    "                self.current_user = user \n",
    "                print(f\"{user} has been logged in\")\n",
    "                break\n",
    "            else:\n",
    "                print(\"Username and/or Password is incorrect\")\n",
    "    \n",
    "    \n",
    "    def log_user_out(self):\n",
    "        self.current_user = None\n",
    "        print(\"You have successfully logged out.\")\n",
    "        \n",
    "class User:\n",
    "    \n",
    "    id_counter = 1 \n",
    "    \n",
    "    def __init__(self, username, password):\n",
    "        self.id = User.id_counter              # Assign title to id and show list in option to access posts \n",
    "        User.id_counter += 1 \n",
    "        self.username = username \n",
    "        self.password = password\n",
    "        self.posts = [] \n",
    "        \n",
    "    def __str__(self):\n",
    "        return self.username\n",
    "        \n",
    "    def __repr__(self):\n",
    "        return f\"User {self.id} | {self.username}>\"\n",
    "    \n",
    "    def check_password(self, password):\n",
    "        return self.password == password\n",
    "            \n",
    "    \n",
    "        \n",
    "class Post:\n",
    "    pass"
   ]
  },
  {
   "cell_type": "code",
   "execution_count": 19,
   "id": "2906dbd8",
   "metadata": {},
   "outputs": [],
   "source": [
    "def run_blog():\n",
    "    my_blog = Blog()\n",
    "    while True:\n",
    "        if not my_blog.current_user:\n",
    "            print(\"1. Sign up\\n2. Log In\\n3. Quit\")\n",
    "            to_do = input(\"Which option which you like to do?\")\n",
    "            while to_do not in {'1', '2', '3'}:\n",
    "                to_do = input(\"Please choose either 1, 2, or 3\")\n",
    "            if to_do == '3':\n",
    "                break\n",
    "            elif to_do == '1':\n",
    "                my_blog.create_new_user()\n",
    "            elif to_do == '2':\n",
    "                my_blog.log_user_in()\n",
    "        else:\n",
    "            print(\"1. Log Out\")\n",
    "            to_do = input(\"Which option would you like to do? \")\n",
    "            while to_do not in {'1'}:\n",
    "                to_do = input(\"Please choose 1\")\n",
    "            if to_do == '1':\n",
    "                my_blog.log_user_out()\n",
    "                print(\"Deleting myself. Goodbye.\")\n",
    "                "
   ]
  },
  {
   "cell_type": "code",
   "execution_count": 16,
   "id": "d8018b3c",
   "metadata": {},
   "outputs": [
    {
     "name": "stdout",
     "output_type": "stream",
     "text": [
      "Please enter a username: user 1\n",
      "Please enter a password: 1234\n",
      "user 1 has been created.\n",
      "Please enter a username: user 2\n",
      "Please enter a password: 1234\n",
      "user 2 has been created.\n"
     ]
    }
   ],
   "source": [
    "my_blog = Blog()\n",
    "my_blog.create_new_user()\n",
    "my_blog.create_new_user()"
   ]
  },
  {
   "cell_type": "code",
   "execution_count": 17,
   "id": "f27c2bf4",
   "metadata": {},
   "outputs": [
    {
     "data": {
      "text/plain": [
       "[User 1 | user 1>, User 2 | user 2>]"
      ]
     },
     "execution_count": 17,
     "metadata": {},
     "output_type": "execute_result"
    }
   ],
   "source": [
    "my_blog.users"
   ]
  },
  {
   "cell_type": "code",
   "execution_count": 4,
   "id": "ac6b5e01",
   "metadata": {},
   "outputs": [],
   "source": [
    "user1 = User('bstanton', 'pass')\n",
    "user2= User('bps', 'pass')"
   ]
  }
 ],
 "metadata": {
  "kernelspec": {
   "display_name": "Python 3 (ipykernel)",
   "language": "python",
   "name": "python3"
  },
  "language_info": {
   "codemirror_mode": {
    "name": "ipython",
    "version": 3
   },
   "file_extension": ".py",
   "mimetype": "text/x-python",
   "name": "python",
   "nbconvert_exporter": "python",
   "pygments_lexer": "ipython3",
   "version": "3.9.7"
  }
 },
 "nbformat": 4,
 "nbformat_minor": 5
}
